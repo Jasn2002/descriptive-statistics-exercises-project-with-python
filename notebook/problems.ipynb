{
    "cells": [
        {
            "cell_type": "markdown",
            "id": "ac622319",
            "metadata": {},
            "source": [
                "# Descriptive statistics problems"
            ]
        },
        {
            "cell_type": "markdown",
            "id": "5e0ab0d5",
            "metadata": {},
            "source": [
                "### Exercise 1\n",
                "\n",
                "We will use NumPy to obtain information to describe statistically.\n",
                "\n",
                "- Generate an array of 100 elements following a normal distribution.\n",
                "- Generate an array of 100 elements following a chi-square distribution with 3 degrees of freedom.\n",
                "- Calculate the main metrics and statistical measures that best describe the two vectors."
            ]
        },
        {
            "cell_type": "code",
            "execution_count": 15,
            "id": "34720ab6",
            "metadata": {},
            "outputs": [
                {
                    "name": "stdout",
                    "output_type": "stream",
                    "text": [
                        "{'Mean': -0.1010653208791465, 'Median': -0.12119390794545673, 'Mode': -2.4695654170826216, 'Standard Deviation': 1.043975245027979}\n",
                        "{'Mean': 2.7793056192694383, 'Median': 2.3618810032174853, 'Mode': 0.07578390760431969, 'Standard Deviation': 1.977096374253245}\n"
                    ]
                }
            ],
            "source": [
                "import numpy as np\n",
                "from scipy.stats import mode as md\n",
                "\n",
                "normal_array = np.random.normal(size = 100)\n",
                "chisquared_array = np.random.chisquare(3, 100)\n",
                "\n",
                "\n",
                "def calc_main_metrics(array : np.array) -> dict:\n",
                "    mean = np.mean(array).item()\n",
                "    median = np.median(array).item()\n",
                "    mode = md(array, axis=None).mode.item()\n",
                "    standard_deviation = np.std(array).item()\n",
                "    \n",
                "    dictionary = {\n",
                "        'Mean' : mean,\n",
                "        'Median' : median,\n",
                "        'Mode' : mode,\n",
                "        'Standard Deviation' : standard_deviation    }\n",
                "\n",
                "    return dictionary\n",
                "\n",
                "result_1 = calc_main_metrics(normal_array)\n",
                "print(result_1)\n",
                "result_2 = calc_main_metrics(chisquared_array)\n",
                "print(result_2)"
            ]
        },
        {
            "cell_type": "markdown",
            "id": "46c70c3d",
            "metadata": {},
            "source": [
                "### Exercise 2\n",
                "\n",
                "Write a Python program to calculate the standard deviation of the following data:\n",
                "\n",
                "```py\n",
                "data = [4, 2, 5, 8, 6]\n",
                "```"
            ]
        },
        {
            "cell_type": "code",
            "execution_count": 16,
            "id": "d590308e",
            "metadata": {},
            "outputs": [
                {
                    "name": "stdout",
                    "output_type": "stream",
                    "text": [
                        "2.0\n"
                    ]
                }
            ],
            "source": [
                "data = np.array([4, 2, 5, 8, 6])\n",
                "\n",
                "std = np.std(data)\n",
                "\n",
                "print(std)"
            ]
        }
    ],
    "metadata": {
        "interpreter": {
            "hash": "9248718ffe6ce6938b217e69dbcc175ea21f4c6b28a317e96c05334edae734bb"
        },
        "kernelspec": {
            "display_name": "Python 3.9.12 ('ML-BOOTCAMP')",
            "language": "python",
            "name": "python3"
        },
        "language_info": {
            "codemirror_mode": {
                "name": "ipython",
                "version": 3
            },
            "file_extension": ".py",
            "mimetype": "text/x-python",
            "name": "python",
            "nbconvert_exporter": "python",
            "pygments_lexer": "ipython3",
            "version": "3.11.4"
        }
    },
    "nbformat": 4,
    "nbformat_minor": 5
}
