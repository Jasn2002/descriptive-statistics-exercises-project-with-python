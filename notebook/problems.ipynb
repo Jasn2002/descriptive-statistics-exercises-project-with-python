{
    "cells": [
        {
            "cell_type": "markdown",
            "id": "ac622319",
            "metadata": {},
            "source": [
                "# Descriptive statistics problems"
            ]
        },
        {
            "cell_type": "markdown",
            "id": "5e0ab0d5",
            "metadata": {},
            "source": [
                "### Exercise 1\n",
                "\n",
                "We will use NumPy to obtain information to describe statistically.\n",
                "\n",
                "- Generate an array of 100 elements following a normal distribution.\n",
                "- Generate an array of 100 elements following a chi-square distribution with 3 degrees of freedom.\n",
                "- Calculate the main metrics and statistical measures that best describe the two vectors."
            ]
        },
        {
            "cell_type": "code",
            "execution_count": 9,
            "id": "34720ab6",
            "metadata": {},
            "outputs": [
                {
                    "name": "stdout",
                    "output_type": "stream",
                    "text": [
                        "{'Mean': -0.028186772241414308, 'Median': -0.07250703915127865, 'Mode': -2.4187473805628366, 'Standard Deviation': 0.9653028130006074}\n",
                        "{'Mean': 3.1858240407357163, 'Median': 2.733747969992015, 'Mode': 0.15580900304072517, 'Standard Deviation': 2.1464797421588684}\n"
                    ]
                }
            ],
            "source": [
                "import numpy as np\n",
                "from scipy.stats import mode as md\n",
                "\n",
                "normal_array = np.random.normal(size = 100)\n",
                "chisquared_array = np.random.chisquare(3, 100)\n",
                "\n",
                "\n",
                "def calc_main_metrics(array : np.array) -> dict:\n",
                "    \n",
                "    dictionary = {\n",
                "        'Mean' : np.mean(array).item(),\n",
                "        'Median' : np.median(array).item(),\n",
                "        'Mode' : md(array, axis=None).mode.item(),\n",
                "        'Standard Deviation' : np.std(array).item()    }\n",
                "\n",
                "    return dictionary\n",
                "\n",
                "\n",
                "print(calc_main_metrics(normal_array))\n",
                "print(calc_main_metrics(chisquared_array))"
            ]
        },
        {
            "cell_type": "markdown",
            "id": "46c70c3d",
            "metadata": {},
            "source": [
                "### Exercise 2\n",
                "\n",
                "Write a Python program to calculate the standard deviation of the following data:\n",
                "\n",
                "```py\n",
                "data = [4, 2, 5, 8, 6]\n",
                "```"
            ]
        },
        {
            "cell_type": "code",
            "execution_count": 7,
            "id": "d590308e",
            "metadata": {},
            "outputs": [
                {
                    "name": "stdout",
                    "output_type": "stream",
                    "text": [
                        "2.23606797749979\n"
                    ]
                }
            ],
            "source": [
                "import statistics\n",
                "import math\n",
                "\n",
                "data = np.array([4, 2, 5, 8, 6])\n",
                "\n",
                "def calc_std(data : np.array) -> float:\n",
                "    \n",
                "    variance = statistics.variance(data)\n",
                "    std_dev = math.sqrt(variance)\n",
                "    return std_dev\n",
                "\n",
                "print(calc_std(data))"
            ]
        }
    ],
    "metadata": {
        "interpreter": {
            "hash": "9248718ffe6ce6938b217e69dbcc175ea21f4c6b28a317e96c05334edae734bb"
        },
        "kernelspec": {
            "display_name": "Python 3.9.12 ('ML-BOOTCAMP')",
            "language": "python",
            "name": "python3"
        },
        "language_info": {
            "codemirror_mode": {
                "name": "ipython",
                "version": 3
            },
            "file_extension": ".py",
            "mimetype": "text/x-python",
            "name": "python",
            "nbconvert_exporter": "python",
            "pygments_lexer": "ipython3",
            "version": "3.11.4"
        }
    },
    "nbformat": 4,
    "nbformat_minor": 5
}
